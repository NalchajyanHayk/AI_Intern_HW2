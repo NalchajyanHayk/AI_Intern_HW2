{
 "cells": [
  {
   "cell_type": "markdown",
   "id": "5a93efb2",
   "metadata": {},
   "source": [
    "# Hayk Nalchajyan Gen AI Internship HW #2\n",
    "### Project 1\n",
    "### The task involves implementing descriptor classes in Python to enforce type validation for attributes in a Person class. The goal is to ensure that the assigned values for specific attributes have the correct types and raise a ValueError if an incorrect type is provided."
   ]
  },
  {
   "cell_type": "markdown",
   "id": "5f15135e",
   "metadata": {},
   "source": [
    "### Input and Output examples\n",
    "The code includes three individual descriptor classes: Int, Float, and List. Each descriptor class defines the __set_name__, __set__, and __get__ methods to handle attribute assignment, type validation, and attribute retrieval. To optimize the code and avoid repeating similar code blocks, a new descriptor class called ValidType is introduced. This class takes a type parameter during initialization and validates that the assigned value matches the specified type. It handles type validation for various attribute types, such as integers, floats, lists, and tuples. The Person class utilizes these descriptor classes to define specific attributes: age, height, tags, favorite_foods, and name. Each attribute is assigned an instance of the ValidType descriptor class with the corresponding type. By using these descriptors, any attempt to assign an incorrect type to these attributes will raise a ValueError with an appropriate error message indicating the expected type."
   ]
  },
  {
   "cell_type": "code",
   "execution_count": 210,
   "id": "4e8caf77",
   "metadata": {},
   "outputs": [],
   "source": [
    "class Validtype:\n",
    "    def __init__(self, my_type):\n",
    "        self.my_type = my_type\n",
    "        self.types = (int, float, list, str)\n",
    "        \n",
    "    def type_exists(self):\n",
    "        if self.my_type in self.types:\n",
    "            return True\n",
    "        print(f\"{self.my_type} is not found!!!\")\n",
    "        return False\n",
    "        \n",
    "    def __set__(self, instance, value):\n",
    "        try:\n",
    "            if self.type_exists():\n",
    "                if not isinstance(value, self.my_type):\n",
    "                    raise TypeError(f\"Invalid type for attribute '{self.name}'. Expected {self.my_type}, got {type(value).__name__}\")\n",
    "                instance.__dict__[self.name] = value\n",
    "        except Exception as e:\n",
    "            print(e)\n",
    "    def __get__(self, instance, owner):\n",
    "        if instance is None:\n",
    "            return self\n",
    "        else:\n",
    "            return instance.__dict__[self.name]\n",
    "    \n",
    "    def __set_name__(self, owner, name):\n",
    "        self.name = name\n"
   ]
  },
  {
   "cell_type": "code",
   "execution_count": 221,
   "id": "5f071c01",
   "metadata": {},
   "outputs": [
    {
     "name": "stdout",
     "output_type": "stream",
     "text": [
      "Invalid type for attribute 'my_name'. Expected <class 'str'>, got int\n"
     ]
    }
   ],
   "source": [
    "class Person:\n",
    "    my_name = Validtype(str)\n",
    "    my_age = Validtype(int)\n",
    "    my_height = Validtype(float)\n",
    "    my_tags = Validtype(int)\n",
    "    my_favorite_foods = Validtype(list)\n",
    "\n",
    "James = Person()\n",
    "James.my_name = \"James\"\n",
    "James.my_age = 21\n",
    "James.my_height = 1.78\n",
    "James.my_tags = 8\n",
    "James.my_favorite_foods = [\"pizza\", \"hamburger\"]\n",
    "\n",
    "\n",
    "ste = Person()\n",
    "ste.my_name = 42 "
   ]
  },
  {
   "cell_type": "code",
   "execution_count": null,
   "id": "855dc9d4",
   "metadata": {},
   "outputs": [],
   "source": []
  },
  {
   "cell_type": "markdown",
   "id": "eb919b80",
   "metadata": {},
   "source": [
    "### Project 2\n",
    "### The application focuses on implementing a Polygon class that represents a polygon shape with a sequence of vertices. The goal is to ensure that the vertices attribute of the Polygon class contains a sequence of Point2D instances, where each point represents a coordinate on a 2D plane. To achieve this, the code defines several descriptor and validator classes."
   ]
  },
  {
   "cell_type": "markdown",
   "id": "f6c82014",
   "metadata": {},
   "source": [
    "### Input and Output examples\n",
    "`Int` class: This descriptor is responsible for validating that integer values assigned to attributes fall within specified bounds. It includes a min_value and max_value parameter to define the valid range for the attribute.\n",
    "\n",
    "`Point2D` class: This class represents a point on a 2D plane. It includes x and y attributes, which are instances of the Int descriptor class with specific bounds. The Point2D class ensures that the assigned values for x and y are non-negative integers within the defined range.\n",
    "\n",
    "`Point2DSequence` class: This validator class ensures that the assigned value for the vertices attribute in the Polygon class is a sequence (mutable or immutable) and that each element in the sequence is an instance of the Point2D class. It includes min_length and max_length parameters to define the minimum and maximum number of vertices for a polygon.\n",
    "\n",
    "`Polygon` class: This class represents a polygon shape. It includes the vertices attribute, which is assigned an instance of the Point2DSequence validator class. The Polygon class constructor takes variable arguments as vertices, and the assigned values are validated by the Point2DSequence validator to ensure they meet the requirements of a polygon.\n",
    "The Polygon class also includes an append method, allowing additional Point2D instances to be appended to the vertices list if the maximum length limit has not been reached.\n",
    "Overall, this application provides a way to define a polygon shape with validated vertices using the Polygon class and ensures that the assigned values meet the required criteria."
   ]
  },
  {
   "cell_type": "code",
   "execution_count": 3,
   "id": "ac75d632",
   "metadata": {},
   "outputs": [
    {
     "name": "stdout",
     "output_type": "stream",
     "text": [
      "[<__main__.Point2D object at 0x0000016185FD6790>, <__main__.Point2D object at 0x0000016185FD6BB0>, <__main__.Point2D object at 0x0000016185FD6B80>]\n",
      "[<__main__.Point2D object at 0x0000016185FD6790>, <__main__.Point2D object at 0x0000016185FD6BB0>, <__main__.Point2D object at 0x0000016185FD6B80>, <__main__.Point2D object at 0x0000016185FD6190>]\n"
     ]
    }
   ],
   "source": [
    "class Int:\n",
    "    def __init__(self, min_value=None, max_value=None):\n",
    "        self.min_value = min_value\n",
    "        self.max_value = max_value\n",
    "\n",
    "    def __set__(self, instance, value):\n",
    "        try:\n",
    "            if not isinstance(value, int):\n",
    "                raise TypeError(\"Value must be an integer.\")\n",
    "            if self.min_value is not None and value < self.min_value:\n",
    "                raise ValueError(f\"Value must be greater than or equal to {self.min_value}.\")\n",
    "            if self.max_value is not None and value > self.max_value:\n",
    "                raise ValueError(f\"Value must be less than or equal to {self.max_value}.\")\n",
    "            instance.__dict__[self.name] = value\n",
    "        except Exception as error:\n",
    "            print(error)\n",
    "\n",
    "    def __get__(self, instance, owner):\n",
    "        if instance is None:\n",
    "            return self\n",
    "        return instance.__dict__.get(self.name, None)\n",
    "\n",
    "    def __set_name__(self, owner, name):\n",
    "        self.name = name\n",
    "\n",
    "\n",
    "class Point2D:\n",
    "    def __init__(self, x, y):\n",
    "        self.x = x\n",
    "        self.y = y\n",
    "\n",
    "    x = Int(min_value=0)\n",
    "    y = Int(min_value=0)\n",
    "\n",
    "\n",
    "class Point2DSequence:\n",
    "    def __init__(self, min_length=None, max_length=None):\n",
    "        self.min_length = min_length\n",
    "        self.max_length = max_length\n",
    "\n",
    "    def __set__(self, instance, value):\n",
    "        try:\n",
    "            if not isinstance(value, (list, tuple)):\n",
    "                raise TypeError(\"Value must be a list or a tuple.\")\n",
    "            for point in value:\n",
    "                if not isinstance(point, Point2D):\n",
    "                    raise ValueError(\"All elements in the sequence must be instances of Point2D.\")\n",
    "            if self.min_length is not None and len(value) < self.min_length:\n",
    "                raise ValueError(f\"The sequence must have at least {self.min_length} elements.\")\n",
    "            if self.max_length is not None and len(value) > self.max_length:\n",
    "                raise ValueError(f\"The sequence must have at most {self.max_length} elements.\")\n",
    "            instance.__dict__[self.name] = value\n",
    "        except Exception as error:\n",
    "            print(error)\n",
    "\n",
    "    def __get__(self, instance, owner):\n",
    "        if instance is None:\n",
    "            return self\n",
    "        return instance.__dict__.get(self.name, None)\n",
    "\n",
    "    def __set_name__(self, owner, name):\n",
    "        self.name = name\n",
    "\n",
    "\n",
    "class Polygon:\n",
    "    def __init__(self, *vertices):\n",
    "        self.vertices = list(vertices)\n",
    "\n",
    "    vertices = Point2DSequence(min_length=3, max_length=6)\n",
    "\n",
    "    def append(self, point):\n",
    "        try:\n",
    "            if len(self.vertices) < Polygon.vertices.max_length:\n",
    "                self.vertices.append(point)\n",
    "            else:\n",
    "                raise ValueError(\"Maximum number of vertices reached.\")\n",
    "        except ValueError as error:\n",
    "            print(error)\n",
    "\n",
    "p1 = Point2D(1, 2)\n",
    "p2 = Point2D(3, 4)\n",
    "p3 = Point2D(5, 6)\n",
    "p4 = Point2D(7, 8)\n",
    "\n",
    "polygon1 = Polygon(p1, p2, p3)\n",
    "print(polygon1.vertices)  \n",
    "\n",
    "polygon2 = Polygon(p1, p2, p3, p4) \n",
    "polygon1.append(p4)\n",
    "print(polygon1.vertices) "
   ]
  },
  {
   "cell_type": "code",
   "execution_count": null,
   "id": "86a5d413",
   "metadata": {},
   "outputs": [],
   "source": []
  }
 ],
 "metadata": {
  "kernelspec": {
   "display_name": "Python 3 (ipykernel)",
   "language": "python",
   "name": "python3"
  },
  "language_info": {
   "codemirror_mode": {
    "name": "ipython",
    "version": 3
   },
   "file_extension": ".py",
   "mimetype": "text/x-python",
   "name": "python",
   "nbconvert_exporter": "python",
   "pygments_lexer": "ipython3",
   "version": "3.9.13"
  }
 },
 "nbformat": 4,
 "nbformat_minor": 5
}
